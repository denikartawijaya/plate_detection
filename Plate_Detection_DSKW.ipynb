{
  "cells": [
    {
      "cell_type": "markdown",
      "metadata": {
        "id": "VxCstRHvpX0r"
      },
      "source": [
        "## Setup\n",
        "\n",
        "Before you use the File API, you need to install the Gemini API SDK package and configure an API key. This section describes how to complete these setup steps."
      ]
    },
    {
      "cell_type": "markdown",
      "metadata": {
        "id": "G6J_rV2ipmj_"
      },
      "source": [
        "### Install the Python SDK and import packages\n",
        "\n",
        "The Python SDK for the Gemini API is contained in the [google-generativeai](https://pypi.org/project/google-generativeai/) package. Install the dependency using pip."
      ]
    },
    {
      "cell_type": "code",
      "execution_count": 1,
      "metadata": {
        "id": "mN8x8DPgu9Kv"
      },
      "outputs": [],
      "source": [
        "!pip install -q -U google-generativeai"
      ]
    },
    {
      "cell_type": "markdown",
      "metadata": {
        "id": "NInUZ4hwDq6d"
      },
      "source": [
        "Import the necessary packages."
      ]
    },
    {
      "cell_type": "code",
      "execution_count": 2,
      "metadata": {
        "id": "0x3xmmWrDtEH"
      },
      "outputs": [],
      "source": [
        "import google.generativeai as genai\n",
        "from IPython.display import Markdown"
      ]
    },
    {
      "cell_type": "markdown",
      "metadata": {
        "id": "l8g4hTRotheH"
      },
      "source": [
        "### Set up your API key\n",
        "\n",
        "The File API uses API keys for authentication and access. Uploaded files are associated with the project linked to the API key. Unlike other Gemini APIs that use API keys, your API key also grants access to data you've uploaded to the File API, so take extra care in keeping your API key secure. For more on keeping your keys\n",
        "secure, see [Best practices for using API\n",
        "keys](https://support.google.com/googleapi/answer/6310037).\n",
        "\n",
        "Store your API key in a Colab Secret named `GOOGLE_API_KEY`. If you don't already have an API key, or are unfamiliar with Colab Secrets, refer to the [Authentication quickstart](https://github.com/google-gemini/gemini-api-cookbook/blob/main/quickstarts/Authentication.ipynb)."
      ]
    },
    {
      "cell_type": "code",
      "execution_count": 3,
      "metadata": {
        "id": "d6lYXRcjthKV"
      },
      "outputs": [],
      "source": [
        "from google.colab import userdata\n",
        "GOOGLE_API_KEY=userdata.get('GOOGLE_API_KEY')\n",
        "\n",
        "genai.configure(api_key=GOOGLE_API_KEY)"
      ]
    },
    {
      "cell_type": "code",
      "execution_count": 8,
      "metadata": {
        "id": "XzMhQ8MWub5_"
      },
      "outputs": [],
      "source": [
        "import PIL.Image\n",
        "\n",
        "sample_file_1 = PIL.Image.open('/content/sample_data/mobil_1.jpg')\n",
        "sample_file_2 = PIL.Image.open('/content/sample_data/mobil_2.jpg')\n",
        "sample_file_3 = PIL.Image.open('/content/sample_data/mobil_3.jpg')"
      ]
    },
    {
      "cell_type": "code",
      "execution_count": 11,
      "metadata": {
        "id": "da11223550a9",
        "colab": {
          "base_uri": "https://localhost:8080/",
          "height": 632
        },
        "outputId": "0c4ad057-6e94-435a-c6f6-98238edb61a2"
      },
      "outputs": [
        {
          "output_type": "execute_result",
          "data": {
            "text/plain": [
              "<IPython.core.display.Markdown object>"
            ],
            "text/markdown": "Here's the information extracted from the images, formatted as requested:\n\n**Image 1:**\n\n```json\n{\n  'plat_no': 'B 1966 RFR',\n  'vehicle': 'car',\n  'vehicle_type': 'SUV', \n  'color': 'black',\n  'gate_open': 'N/A',\n  'gate_closed': 'N/A'\n}\n```\n\n**Image 2:**\n\n```json\n{\n  'plat_no': 'B 1684 SSO',\n  'vehicle': 'car',\n  'vehicle_type': 'SUV',\n  'color': 'white',\n  'gate_open': 'N/A',\n  'gate_closed': 'N/A'\n}\n```\n\n**Image 3:**\n\n```json\n{\n  'plat_no': 'B 1545 SZS',\n  'vehicle': 'car',\n  'vehicle_type': 'Minivan', \n  'color': 'black',\n  'gate_open': 'N/A',\n  'gate_closed': 'N/A'\n}\n```\n\nI've made some assumptions:\n\n* **vehicle_type:**  I've used \"SUV\" where appropriate. I used \"Minivan\" for Image 3 which appears to be a Toyota Avanza or similar. More specific classification would require additional information or a more specialized model.\n* **gate_open/gate_closed:** As there's no timestamp information available, I have marked these as \"N/A.\""
          },
          "metadata": {},
          "execution_count": 11
        }
      ],
      "source": [
        "import google.generativeai as genai\n",
        "\n",
        "# Choose a Gemini model.\n",
        "model = genai.GenerativeModel(model_name=\"gemini-1.5-pro-latest\")\n",
        "\n",
        "# Create a prompt.\n",
        "prompt = \"Read The plate number of the car with the output example {‘plat_no’: ‘B 1234 ABC’,‘vehicle’: ‘car’,‘vehicle_type’: ‘SUV’,‘color’: ‘red’,‘gate_open’: ‘2024-12-02 18.15.01’,‘gate_closed’: ‘N/A’,}\"\n",
        "\n",
        "response = model.generate_content([sample_file_1, sample_file_2, sample_file_3, prompt])\n",
        "\n",
        "Markdown(response.text)"
      ]
    }
  ],
  "metadata": {
    "colab": {
      "provenance": []
    },
    "kernelspec": {
      "display_name": "Python 3",
      "name": "python3"
    }
  },
  "nbformat": 4,
  "nbformat_minor": 0
}